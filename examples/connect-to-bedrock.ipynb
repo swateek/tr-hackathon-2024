{
 "cells": [
  {
   "cell_type": "markdown",
   "metadata": {},
   "source": [
    "## Connecting to AWS BedRock\n",
    "\n",
    "**References**\n",
    "\n",
    "1. [Integrating Foundation Model with Amazon Bedrock](https://aws.amazon.com/blogs/machine-learning/integrate-foundation-models-into-your-code-with-amazon-bedrock/)"
   ]
  },
  {
   "cell_type": "code",
   "execution_count": null,
   "metadata": {},
   "outputs": [],
   "source": [
    "import configparser\n",
    "import json\n",
    "import boto3\n",
    "import logging\n",
    "from botocore.exceptions import ClientError"
   ]
  },
  {
   "cell_type": "markdown",
   "metadata": {},
   "source": [
    "### Initiate Services"
   ]
  },
  {
   "cell_type": "code",
   "execution_count": null,
   "metadata": {},
   "outputs": [],
   "source": [
    "logging.basicConfig(\n",
    "    format=\"%(levelname)s - %(asctime)s - %(message)s\", level=logging.DEBUG\n",
    ")\n",
    "\n",
    "logger = logging"
   ]
  },
  {
   "cell_type": "markdown",
   "metadata": {},
   "source": [
    "### Reading Config File"
   ]
  },
  {
   "cell_type": "code",
   "execution_count": null,
   "metadata": {},
   "outputs": [],
   "source": [
    "CONFIG_FILENAME=\".config.ini\"\n",
    "\n",
    "config = configparser.ConfigParser()\n",
    "config.read(CONFIG_FILENAME)\n",
    "\n",
    "def get_value_by_section_and_key(section, key):\n",
    "        \"\"\"get_value_by_section_and_key\"\"\"\n",
    "        return config.get(section, key)\n",
    "\n",
    "def get_all_details_of_section(section) -> dict:\n",
    "    \"\"\"get_all_details_of_section\"\"\"\n",
    "    return dict(config.items(section))\n",
    "\n",
    "\n",
    "default_cfgs = get_all_details_of_section(\"DEFAULT\")"
   ]
  },
  {
   "cell_type": "markdown",
   "metadata": {},
   "source": [
    "### Create boto3 client - BEDROCK"
   ]
  },
  {
   "cell_type": "code",
   "execution_count": null,
   "metadata": {},
   "outputs": [],
   "source": [
    "bedrock_client = boto3.client(\n",
    "    'bedrock',\n",
    "    region_name=default_cfgs.get(\"aws_default_region\", \"\"),\n",
    "    aws_access_key_id=default_cfgs.get(\"aws_access_key_id\", \"\"),\n",
    "    aws_secret_access_key=default_cfgs.get(\"aws_secret_access_key\", \"\"),\n",
    "    aws_session_token=default_cfgs.get(\"aws_session_token\", \"\")\n",
    ")\n",
    "\n",
    "bedrock_runtime = boto3.client(\n",
    "    service_name='bedrock-runtime',\n",
    "    region_name=default_cfgs.get(\"aws_default_region\", \"\"),\n",
    "    aws_access_key_id=default_cfgs.get(\"aws_access_key_id\", \"\"),\n",
    "    aws_secret_access_key=default_cfgs.get(\"aws_secret_access_key\", \"\"),\n",
    "    aws_session_token=default_cfgs.get(\"aws_session_token\", \"\")\n",
    ")\n",
    "\n",
    "def list_foundation_models():\n",
    "    \"\"\"\n",
    "    List the available Amazon Bedrock foundation models.\n",
    "\n",
    "    :return: The list of available bedrock foundation models.\n",
    "    \"\"\"\n",
    "\n",
    "    try:\n",
    "        response = bedrock_client.list_foundation_models()\n",
    "        models = response[\"modelSummaries\"]\n",
    "        logger.info(\"Got %s foundation models.\", len(models))\n",
    "        return models\n",
    "    except ClientError:\n",
    "        logger.error(\"Couldn't list foundation models.\")\n",
    "        raise\n",
    "\n",
    "all_models = list_foundation_models()\n",
    "# all_models\n",
    "# len(all_models) # 73"
   ]
  },
  {
   "cell_type": "markdown",
   "metadata": {},
   "source": [
    "### Calling a Model"
   ]
  },
  {
   "cell_type": "code",
   "execution_count": null,
   "metadata": {},
   "outputs": [],
   "source": [
    "kwargs = {\n",
    " \"modelId\": \"amazon.titan-text-express-v1\",\n",
    " \"contentType\": \"application/json\",\n",
    " \"accept\": \"application/json\",\n",
    " \"body\": \"{\\\"inputText\\\":\\\"Hello, who are you?\\\",\\\"textGenerationConfig\\\":{\\\"maxTokenCount\\\":8192,\\\"stopSequences\\\":[],\\\"temperature\\\":0,\\\"topP\\\":1}}\"\n",
    "}\n",
    "# print(kwargs)\n",
    "\n",
    "response = bedrock_runtime.invoke_model(**kwargs)\n",
    "response_body = json.loads(response.get('body').read())\n",
    "response_body"
   ]
  }
 ],
 "metadata": {
  "kernelspec": {
   "display_name": ".venv",
   "language": "python",
   "name": "python3"
  },
  "language_info": {
   "codemirror_mode": {
    "name": "ipython",
    "version": 3
   },
   "file_extension": ".py",
   "mimetype": "text/x-python",
   "name": "python",
   "nbconvert_exporter": "python",
   "pygments_lexer": "ipython3",
   "version": "3.9.18"
  }
 },
 "nbformat": 4,
 "nbformat_minor": 2
}
