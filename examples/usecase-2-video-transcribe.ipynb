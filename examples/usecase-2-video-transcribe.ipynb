{
 "cells": [
  {
   "cell_type": "markdown",
   "metadata": {},
   "source": [
    "## UseCase 2 - Video Transcribe\n",
    "\n",
    "**References**\n",
    "\n",
    "1. [Transribe - Python](https://docs.aws.amazon.com/code-library/latest/ug/python_3_transcribe_code_examples.html)"
   ]
  },
  {
   "cell_type": "code",
   "execution_count": null,
   "metadata": {},
   "outputs": [],
   "source": [
    "import configparser\n",
    "import time\n",
    "import boto3\n",
    "import json\n",
    "import logging\n",
    "import urllib.request\n",
    "import random\n",
    "from botocore.exceptions import ClientError"
   ]
  },
  {
   "cell_type": "markdown",
   "metadata": {},
   "source": [
    "### Initiate Services"
   ]
  },
  {
   "cell_type": "code",
   "execution_count": null,
   "metadata": {},
   "outputs": [],
   "source": [
    "logging.basicConfig(\n",
    "    format=\"%(levelname)s - %(asctime)s - %(message)s\", level=logging.ERROR\n",
    ")\n",
    "\n",
    "logger = logging"
   ]
  },
  {
   "cell_type": "markdown",
   "metadata": {},
   "source": [
    "### Reading Config File"
   ]
  },
  {
   "cell_type": "code",
   "execution_count": null,
   "metadata": {},
   "outputs": [],
   "source": [
    "CONFIG_FILENAME=\".config.ini\"\n",
    "\n",
    "config = configparser.ConfigParser()\n",
    "config.read(CONFIG_FILENAME)\n",
    "\n",
    "def get_value_by_section_and_key(section, key):\n",
    "        \"\"\"get_value_by_section_and_key\"\"\"\n",
    "        return config.get(section, key)\n",
    "\n",
    "def get_all_details_of_section(section) -> dict:\n",
    "    \"\"\"get_all_details_of_section\"\"\"\n",
    "    return dict(config.items(section))\n",
    "\n",
    "\n",
    "default_cfgs = get_all_details_of_section(\"DEFAULT\")"
   ]
  },
  {
   "cell_type": "markdown",
   "metadata": {},
   "source": [
    "### Create boto3 client - BEDROCK"
   ]
  },
  {
   "cell_type": "code",
   "execution_count": null,
   "metadata": {},
   "outputs": [],
   "source": [
    "transcribe_client = boto3.client(\n",
    "    'transcribe',\n",
    "    region_name=default_cfgs.get(\"aws_default_region\", \"\"),\n",
    "    aws_access_key_id=default_cfgs.get(\"aws_access_key_id\", \"\"),\n",
    "    aws_secret_access_key=default_cfgs.get(\"aws_secret_access_key\", \"\"),\n",
    "    aws_session_token=default_cfgs.get(\"aws_session_token\", \"\")\n",
    ")\n"
   ]
  },
  {
   "cell_type": "markdown",
   "metadata": {},
   "source": [
    "### Transcribe File"
   ]
  },
  {
   "cell_type": "code",
   "execution_count": null,
   "metadata": {},
   "outputs": [],
   "source": [
    "def transcribe_file(job_name, file_uri, transcribe_client):\n",
    "    transcribe_client.start_transcription_job(\n",
    "        TranscriptionJobName=job_name,\n",
    "        Media={\"MediaFileUri\": file_uri},\n",
    "        MediaFormat=\"mp4\",\n",
    "        LanguageCode=\"en-US\",\n",
    "    )\n",
    "\n",
    "    max_tries = 60\n",
    "    while max_tries > 0:\n",
    "        transcript_url = \"\"\n",
    "        max_tries -= 1\n",
    "        job = transcribe_client.get_transcription_job(TranscriptionJobName=job_name)\n",
    "        job_status = job[\"TranscriptionJob\"][\"TranscriptionJobStatus\"]\n",
    "        if job_status in [\"COMPLETED\", \"FAILED\"]:\n",
    "            print(f\"Job {job_name} is {job_status}.\")\n",
    "            if job_status == \"COMPLETED\":\n",
    "                print(\n",
    "                    f\"Download the transcript from\\n\"\n",
    "                    f\"\\t{job['TranscriptionJob']['Transcript']['TranscriptFileUri']}.\"\n",
    "                )\n",
    "                transcript_url = job['TranscriptionJob']['Transcript']['TranscriptFileUri']\n",
    "            break\n",
    "        else:\n",
    "            print(f\"Waiting for {job_name}. Current status is {job_status}.\")\n",
    "        time.sleep(10)\n",
    "\n",
    "    text = \"\"\n",
    "    if(len(transcript_url) > 0):\n",
    "        response = urllib.request.urlopen(transcript_url)\n",
    "        data = json.loads(response.read())\n",
    "        \n",
    "        # Extract the transcript text\n",
    "        text = data['results']['transcripts'][0]['transcript']\n",
    "\n",
    "    return text\n",
    "\n",
    "BUCKET_NAME=\"tr-hackathon\"\n",
    "MEDIAFILE=\"usecase-exp/nirmala-sitharaman-fm-parliament.mp4\"\n",
    "file_uri = \"s3://\" + BUCKET_NAME + \"/\" + MEDIAFILE\n",
    "job_id = \"Transcribe-job-\"+str(random.randint(9, 10054))\n",
    "transcibed_text = transcribe_file(job_id, file_uri, transcribe_client)\n"
   ]
  }
 ],
 "metadata": {
  "kernelspec": {
   "display_name": ".venv",
   "language": "python",
   "name": "python3"
  },
  "language_info": {
   "codemirror_mode": {
    "name": "ipython",
    "version": 3
   },
   "file_extension": ".py",
   "mimetype": "text/x-python",
   "name": "python",
   "nbconvert_exporter": "python",
   "pygments_lexer": "ipython3",
   "version": "3.9.18"
  }
 },
 "nbformat": 4,
 "nbformat_minor": 2
}
