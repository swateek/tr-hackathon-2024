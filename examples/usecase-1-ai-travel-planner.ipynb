{
 "cells": [
  {
   "cell_type": "markdown",
   "metadata": {},
   "source": [
    "## UseCase 1 - AI Travel Planner\n",
    "\n",
    "**References**\n",
    "\n",
    "1. [Integrating Foundation Model with Amazon Bedrock](https://aws.amazon.com/blogs/machine-learning/integrate-foundation-models-into-your-code-with-amazon-bedrock/)\n",
    "2. [Working with Anthropic Claude Sonnet](https://aws.amazon.com/blogs/aws/anthropics-claude-3-5-sonnet-model-now-available-in-amazon-bedrock-the-most-intelligent-claude-model-yet/)"
   ]
  },
  {
   "cell_type": "code",
   "execution_count": null,
   "metadata": {},
   "outputs": [],
   "source": [
    "import configparser\n",
    "import json\n",
    "import boto3\n",
    "import logging\n",
    "from botocore.exceptions import ClientError"
   ]
  },
  {
   "cell_type": "markdown",
   "metadata": {},
   "source": [
    "### Initiate Services"
   ]
  },
  {
   "cell_type": "code",
   "execution_count": null,
   "metadata": {},
   "outputs": [],
   "source": [
    "logging.basicConfig(\n",
    "    format=\"%(levelname)s - %(asctime)s - %(message)s\", level=logging.ERROR\n",
    ")\n",
    "\n",
    "logger = logging"
   ]
  },
  {
   "cell_type": "markdown",
   "metadata": {},
   "source": [
    "### Reading Config File"
   ]
  },
  {
   "cell_type": "code",
   "execution_count": null,
   "metadata": {},
   "outputs": [],
   "source": [
    "CONFIG_FILENAME=\".config.ini\"\n",
    "\n",
    "config = configparser.ConfigParser()\n",
    "config.read(CONFIG_FILENAME)\n",
    "\n",
    "def get_value_by_section_and_key(section, key):\n",
    "        \"\"\"get_value_by_section_and_key\"\"\"\n",
    "        return config.get(section, key)\n",
    "\n",
    "def get_all_details_of_section(section) -> dict:\n",
    "    \"\"\"get_all_details_of_section\"\"\"\n",
    "    return dict(config.items(section))\n",
    "\n",
    "\n",
    "default_cfgs = get_all_details_of_section(\"DEFAULT\")"
   ]
  },
  {
   "cell_type": "markdown",
   "metadata": {},
   "source": [
    "### Create boto3 client - BEDROCK"
   ]
  },
  {
   "cell_type": "code",
   "execution_count": null,
   "metadata": {},
   "outputs": [],
   "source": [
    "bedrock_client = boto3.client(\n",
    "    'bedrock',\n",
    "    region_name=default_cfgs.get(\"aws_default_region\", \"\"),\n",
    "    aws_access_key_id=default_cfgs.get(\"aws_access_key_id\", \"\"),\n",
    "    aws_secret_access_key=default_cfgs.get(\"aws_secret_access_key\", \"\"),\n",
    "    aws_session_token=default_cfgs.get(\"aws_session_token\", \"\")\n",
    ")\n",
    "\n",
    "bedrock_runtime = boto3.client(\n",
    "    service_name='bedrock-runtime',\n",
    "    region_name=default_cfgs.get(\"aws_default_region\", \"\"),\n",
    "    aws_access_key_id=default_cfgs.get(\"aws_access_key_id\", \"\"),\n",
    "    aws_secret_access_key=default_cfgs.get(\"aws_secret_access_key\", \"\"),\n",
    "    aws_session_token=default_cfgs.get(\"aws_session_token\", \"\")\n",
    ")\n"
   ]
  },
  {
   "cell_type": "markdown",
   "metadata": {},
   "source": [
    "### Working With Model - Claude 3.5 Sonnet v2"
   ]
  },
  {
   "cell_type": "code",
   "execution_count": null,
   "metadata": {},
   "outputs": [],
   "source": [
    "kwargs = {\n",
    "    \"modelId\": \"anthropic.claude-3-5-sonnet-20241022-v2:0\",\n",
    "    \"contentType\": \"application/json\",\n",
    "    \"accept\": \"application/json\",\n",
    "    \"body\": {\n",
    "        \"anthropic_version\": \"bedrock-2023-05-31\",\n",
    "        \"max_tokens\": 1200,\n",
    "        \"messages\": [\n",
    "            {\n",
    "                \"role\": \"user\",\n",
    "                \"content\": [\n",
    "                {\n",
    "                    \"type\": \"text\",\n",
    "                    \"text\": \"I have can travel for 3 days in January 2025, and I prefer to go by bus from Bangalore.\"\n",
    "                }\n",
    "                ]\n",
    "            }\n",
    "        ],\n",
    "        \"system\": \"You are an expert in the domain of travel, and based on the month of travel, number of days, start point and mode of transport provided by the user, you can suggest them the best place to travel. Give a detailed itinerary for the number of days as well.\"\n",
    "    }\n",
    "}\n",
    "# print(kwargs)\n",
    "\n",
    "response = bedrock_runtime.invoke_model(\n",
    "        modelId=kwargs[\"modelId\"],\n",
    "        body=json.dumps(kwargs[\"body\"]).encode('utf-8')\n",
    "    )\n",
    "response_body = json.loads(response.get('body').read())\n",
    "response_body"
   ]
  }
 ],
 "metadata": {
  "kernelspec": {
   "display_name": ".venv",
   "language": "python",
   "name": "python3"
  },
  "language_info": {
   "codemirror_mode": {
    "name": "ipython",
    "version": 3
   },
   "file_extension": ".py",
   "mimetype": "text/x-python",
   "name": "python",
   "nbconvert_exporter": "python",
   "pygments_lexer": "ipython3",
   "version": "3.9.18"
  }
 },
 "nbformat": 4,
 "nbformat_minor": 2
}
